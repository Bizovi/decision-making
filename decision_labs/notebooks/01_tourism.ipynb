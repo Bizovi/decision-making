{
 "cells": [
  {
   "attachments": {},
   "cell_type": "markdown",
   "metadata": {},
   "source": [
    "## Airplane tourism example"
   ]
  },
  {
   "cell_type": "code",
   "execution_count": 29,
   "metadata": {},
   "outputs": [
    {
     "name": "stdout",
     "output_type": "stream",
     "text": [
      "The autoreload extension is already loaded. To reload it, use:\n",
      "  %reload_ext autoreload\n"
     ]
    }
   ],
   "source": [
    "import numpy as np\n",
    "import decision_labs.airplane as ap\n",
    "\n",
    "%load_ext autoreload\n",
    "%autoreload 2"
   ]
  },
  {
   "cell_type": "code",
   "execution_count": 63,
   "metadata": {},
   "outputs": [
    {
     "name": "stdout",
     "output_type": "stream",
     "text": [
      "The empirical average nr of individuals who show up is: 2.5601\n",
      "The theoretical average nr of individuals who show up is: 2.55\n"
     ]
    }
   ],
   "source": [
    "# experiment parameters setup\n",
    "p_showup = 0.85\n",
    "p_couple = 0.6\n",
    "nr_samples = 10000\n",
    "true_expectation = p_showup * 3\n",
    "\n",
    "rng = np.random.default_rng(seed=1319)\n",
    "y_individuals = rng.binomial(n=3, p=p_showup, size=nr_samples)\n",
    "\n",
    "print(f\"The empirical average nr of individuals who show up is: {y_individuals.mean()}\")\n",
    "print(f\"The theoretical average nr of individuals who show up is: {true_expectation}\")"
   ]
  },
  {
   "cell_type": "code",
   "execution_count": 64,
   "metadata": {},
   "outputs": [
    {
     "data": {
      "text/html": [
       "<div>\n",
       "<style scoped>\n",
       "    .dataframe tbody tr th:only-of-type {\n",
       "        vertical-align: middle;\n",
       "    }\n",
       "\n",
       "    .dataframe tbody tr th {\n",
       "        vertical-align: top;\n",
       "    }\n",
       "\n",
       "    .dataframe thead th {\n",
       "        text-align: right;\n",
       "    }\n",
       "</style>\n",
       "<table border=\"1\" class=\"dataframe\">\n",
       "  <thead>\n",
       "    <tr style=\"text-align: right;\">\n",
       "      <th></th>\n",
       "      <th>has_couple</th>\n",
       "      <th>y_mix</th>\n",
       "      <th>y_individual</th>\n",
       "      <th>nr_show_up</th>\n",
       "    </tr>\n",
       "  </thead>\n",
       "  <tbody>\n",
       "    <tr>\n",
       "      <th>0</th>\n",
       "      <td>0</td>\n",
       "      <td>0</td>\n",
       "      <td>2</td>\n",
       "      <td>2</td>\n",
       "    </tr>\n",
       "    <tr>\n",
       "      <th>1</th>\n",
       "      <td>0</td>\n",
       "      <td>0</td>\n",
       "      <td>3</td>\n",
       "      <td>3</td>\n",
       "    </tr>\n",
       "    <tr>\n",
       "      <th>2</th>\n",
       "      <td>1</td>\n",
       "      <td>3</td>\n",
       "      <td>0</td>\n",
       "      <td>3</td>\n",
       "    </tr>\n",
       "    <tr>\n",
       "      <th>3</th>\n",
       "      <td>1</td>\n",
       "      <td>1</td>\n",
       "      <td>0</td>\n",
       "      <td>1</td>\n",
       "    </tr>\n",
       "    <tr>\n",
       "      <th>4</th>\n",
       "      <td>1</td>\n",
       "      <td>1</td>\n",
       "      <td>0</td>\n",
       "      <td>1</td>\n",
       "    </tr>\n",
       "    <tr>\n",
       "      <th>5</th>\n",
       "      <td>1</td>\n",
       "      <td>2</td>\n",
       "      <td>0</td>\n",
       "      <td>2</td>\n",
       "    </tr>\n",
       "    <tr>\n",
       "      <th>6</th>\n",
       "      <td>1</td>\n",
       "      <td>3</td>\n",
       "      <td>0</td>\n",
       "      <td>3</td>\n",
       "    </tr>\n",
       "    <tr>\n",
       "      <th>7</th>\n",
       "      <td>0</td>\n",
       "      <td>0</td>\n",
       "      <td>3</td>\n",
       "      <td>3</td>\n",
       "    </tr>\n",
       "    <tr>\n",
       "      <th>8</th>\n",
       "      <td>1</td>\n",
       "      <td>2</td>\n",
       "      <td>0</td>\n",
       "      <td>2</td>\n",
       "    </tr>\n",
       "    <tr>\n",
       "      <th>9</th>\n",
       "      <td>1</td>\n",
       "      <td>3</td>\n",
       "      <td>0</td>\n",
       "      <td>3</td>\n",
       "    </tr>\n",
       "  </tbody>\n",
       "</table>\n",
       "</div>"
      ],
      "text/plain": [
       "   has_couple  y_mix  y_individual  nr_show_up\n",
       "0           0      0             2           2\n",
       "1           0      0             3           3\n",
       "2           1      3             0           3\n",
       "3           1      1             0           1\n",
       "4           1      1             0           1\n",
       "5           1      2             0           2\n",
       "6           1      3             0           3\n",
       "7           0      0             3           3\n",
       "8           1      2             0           2\n",
       "9           1      3             0           3"
      ]
     },
     "execution_count": 64,
     "metadata": {},
     "output_type": "execute_result"
    }
   ],
   "source": [
    "df = ap.compute_nr_passengers(p_showup, p_couple, nr_samples=nr_samples, seed=1321)\n",
    "df.head(10)"
   ]
  },
  {
   "cell_type": "code",
   "execution_count": 65,
   "metadata": {},
   "outputs": [
    {
     "data": {
      "text/plain": [
       "0"
      ]
     },
     "execution_count": 65,
     "metadata": {},
     "output_type": "execute_result"
    }
   ],
   "source": [
    "# Check that the formula was composed correctly\n",
    "int((df.y_mix + df.y_individual - df.nr_show_up).sum())"
   ]
  },
  {
   "cell_type": "code",
   "execution_count": 68,
   "metadata": {},
   "outputs": [
    {
     "data": {
      "text/html": [
       "<style type=\"text/css\">\n",
       "#T_f708c_row0_col2 {\n",
       "  width: 10em;\n",
       "  background: linear-gradient(90deg, lightgrey 19.1%, transparent 19.1%);\n",
       "}\n",
       "#T_f708c_row1_col2 {\n",
       "  width: 10em;\n",
       "  background: linear-gradient(90deg, lightgrey 100.0%, transparent 100.0%);\n",
       "}\n",
       "</style>\n",
       "<table id=\"T_f708c\">\n",
       "  <thead>\n",
       "    <tr>\n",
       "      <th class=\"blank level0\" >&nbsp;</th>\n",
       "      <th id=\"T_f708c_level0_col0\" class=\"col_heading level0 col0\" >has_couple</th>\n",
       "      <th id=\"T_f708c_level0_col1\" class=\"col_heading level0 col1\" >avg_nr_showup</th>\n",
       "      <th id=\"T_f708c_level0_col2\" class=\"col_heading level0 col2\" >nr_trips</th>\n",
       "    </tr>\n",
       "  </thead>\n",
       "  <tbody>\n",
       "    <tr>\n",
       "      <th id=\"T_f708c_level0_row0\" class=\"row_heading level0 row0\" >0</th>\n",
       "      <td id=\"T_f708c_row0_col0\" class=\"data row0 col0\" >0</td>\n",
       "      <td id=\"T_f708c_row0_col1\" class=\"data row0 col1\" >2.51</td>\n",
       "      <td id=\"T_f708c_row0_col2\" class=\"data row0 col2\" >1601</td>\n",
       "    </tr>\n",
       "    <tr>\n",
       "      <th id=\"T_f708c_level0_row1\" class=\"row_heading level0 row1\" >1</th>\n",
       "      <td id=\"T_f708c_row1_col0\" class=\"data row1 col0\" >1</td>\n",
       "      <td id=\"T_f708c_row1_col1\" class=\"data row1 col1\" >2.29</td>\n",
       "      <td id=\"T_f708c_row1_col2\" class=\"data row1 col2\" >8399</td>\n",
       "    </tr>\n",
       "  </tbody>\n",
       "</table>\n"
      ],
      "text/plain": [
       "<pandas.io.formats.style.Styler at 0x11e037440>"
      ]
     },
     "execution_count": 68,
     "metadata": {},
     "output_type": "execute_result"
    }
   ],
   "source": [
    "(df\n",
    " .groupby(\"has_couple\")\n",
    " .agg({\n",
    "    'nr_show_up': ['mean'], \n",
    "    'has_couple': ['count']\n",
    " })\n",
    " .droplevel(axis=1, level=0).reset_index()\n",
    " .rename(columns={\"mean\": \"avg_nr_showup\", 'count': 'nr_trips'})\n",
    " .style\n",
    " .format({'avg_nr_showup': '{:,.2f}'})\n",
    " .bar(subset='nr_trips', color = \"lightgrey\")\n",
    ")"
   ]
  },
  {
   "cell_type": "code",
   "execution_count": 67,
   "metadata": {},
   "outputs": [
    {
     "data": {
      "image/png": "[encoded data removed]",
      "text/plain": [
       "<Figure size 800x500 with 1 Axes>"
      ]
     },
     "metadata": {},
     "output_type": "display_data"
    }
   ],
   "source": [
    "ap.plot_passengers(df, p_showup=p_showup)"
   ]
  }
 ],
 "metadata": {
  "kernelspec": {
   "display_name": "decision-lab",
   "language": "python",
   "name": "decision-lab"
  },
  "language_info": {
   "codemirror_mode": {
    "name": "ipython",
    "version": 3
   },
   "file_extension": ".py",
   "mimetype": "text/x-python",
   "name": "python",
   "nbconvert_exporter": "python",
   "pygments_lexer": "ipython3",
   "version": "3.12.7"
  },
  "orig_nbformat": 4
 },
 "nbformat": 4,
 "nbformat_minor": 2
}
